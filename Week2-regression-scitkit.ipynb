{
 "cells": [
  {
   "cell_type": "markdown",
   "metadata": {},
   "source": [
    "# Week 2 Assignment using pandas and scikit learn"
   ]
  },
  {
   "cell_type": "code",
   "execution_count": 91,
   "metadata": {
    "collapsed": true
   },
   "outputs": [],
   "source": [
    "import pandas as pd "
   ]
  },
  {
   "cell_type": "markdown",
   "metadata": {},
   "source": [
    "### Load data"
   ]
  },
  {
   "cell_type": "code",
   "execution_count": 9,
   "metadata": {
    "collapsed": false
   },
   "outputs": [
    {
     "data": {
      "text/html": [
       "<div style=\"max-height:1000px;max-width:1500px;overflow:auto;\">\n",
       "<table border=\"1\" class=\"dataframe\">\n",
       "  <thead>\n",
       "    <tr style=\"text-align: right;\">\n",
       "      <th></th>\n",
       "      <th>id</th>\n",
       "      <th>date</th>\n",
       "      <th>price</th>\n",
       "      <th>bedrooms</th>\n",
       "      <th>bathrooms</th>\n",
       "      <th>sqft_living</th>\n",
       "      <th>sqft_lot</th>\n",
       "      <th>floors</th>\n",
       "      <th>waterfront</th>\n",
       "      <th>view</th>\n",
       "      <th>...</th>\n",
       "      <th>grade</th>\n",
       "      <th>sqft_above</th>\n",
       "      <th>sqft_basement</th>\n",
       "      <th>yr_built</th>\n",
       "      <th>yr_renovated</th>\n",
       "      <th>zipcode</th>\n",
       "      <th>lat</th>\n",
       "      <th>long</th>\n",
       "      <th>sqft_living15</th>\n",
       "      <th>sqft_lot15</th>\n",
       "    </tr>\n",
       "  </thead>\n",
       "  <tbody>\n",
       "    <tr>\n",
       "      <th>0</th>\n",
       "      <td> 7129300520</td>\n",
       "      <td> 20141013T000000</td>\n",
       "      <td> 221900</td>\n",
       "      <td> 3</td>\n",
       "      <td> 1.00</td>\n",
       "      <td> 1180</td>\n",
       "      <td> 5650</td>\n",
       "      <td> 1</td>\n",
       "      <td> 0</td>\n",
       "      <td> 0</td>\n",
       "      <td>...</td>\n",
       "      <td> 7</td>\n",
       "      <td> 1180</td>\n",
       "      <td>   0</td>\n",
       "      <td> 1955</td>\n",
       "      <td>    0</td>\n",
       "      <td> 98178</td>\n",
       "      <td> 47.5112</td>\n",
       "      <td>-122.257</td>\n",
       "      <td> 1340</td>\n",
       "      <td> 5650</td>\n",
       "    </tr>\n",
       "    <tr>\n",
       "      <th>1</th>\n",
       "      <td> 6414100192</td>\n",
       "      <td> 20141209T000000</td>\n",
       "      <td> 538000</td>\n",
       "      <td> 3</td>\n",
       "      <td> 2.25</td>\n",
       "      <td> 2570</td>\n",
       "      <td> 7242</td>\n",
       "      <td> 2</td>\n",
       "      <td> 0</td>\n",
       "      <td> 0</td>\n",
       "      <td>...</td>\n",
       "      <td> 7</td>\n",
       "      <td> 2170</td>\n",
       "      <td> 400</td>\n",
       "      <td> 1951</td>\n",
       "      <td> 1991</td>\n",
       "      <td> 98125</td>\n",
       "      <td> 47.7210</td>\n",
       "      <td>-122.319</td>\n",
       "      <td> 1690</td>\n",
       "      <td> 7639</td>\n",
       "    </tr>\n",
       "  </tbody>\n",
       "</table>\n",
       "<p>2 rows × 21 columns</p>\n",
       "</div>"
      ],
      "text/plain": [
       "           id             date   price  bedrooms  bathrooms  sqft_living  \\\n",
       "0  7129300520  20141013T000000  221900         3       1.00         1180   \n",
       "1  6414100192  20141209T000000  538000         3       2.25         2570   \n",
       "\n",
       "   sqft_lot  floors  waterfront  view  ...   grade  sqft_above  sqft_basement  \\\n",
       "0      5650       1           0     0  ...       7        1180              0   \n",
       "1      7242       2           0     0  ...       7        2170            400   \n",
       "\n",
       "   yr_built  yr_renovated  zipcode      lat     long  sqft_living15  \\\n",
       "0      1955             0    98178  47.5112 -122.257           1340   \n",
       "1      1951          1991    98125  47.7210 -122.319           1690   \n",
       "\n",
       "   sqft_lot15  \n",
       "0        5650  \n",
       "1        7639  \n",
       "\n",
       "[2 rows x 21 columns]"
      ]
     },
     "execution_count": 9,
     "metadata": {},
     "output_type": "execute_result"
    }
   ],
   "source": [
    "sales = pd.read_csv('kc_house_data.csv')\n",
    "sales.head(2)"
   ]
  },
  {
   "cell_type": "code",
   "execution_count": 10,
   "metadata": {
    "collapsed": false
   },
   "outputs": [
    {
     "data": {
      "text/plain": [
       "Index([u'id', u'date', u'price', u'bedrooms', u'bathrooms', u'sqft_living', u'sqft_lot', u'floors', u'waterfront', u'view', u'condition', u'grade', u'sqft_above', u'sqft_basement', u'yr_built', u'yr_renovated', u'zipcode', u'lat', u'long', u'sqft_living15', u'sqft_lot15'], dtype='object')"
      ]
     },
     "execution_count": 10,
     "metadata": {},
     "output_type": "execute_result"
    }
   ],
   "source": [
    "sales.columns"
   ]
  },
  {
   "cell_type": "markdown",
   "metadata": {},
   "source": [
    "### 1. Selection and summary statistics: We found the zip code with the highest average house price. What is the average house price of that zip code?"
   ]
  },
  {
   "cell_type": "code",
   "execution_count": 39,
   "metadata": {
    "collapsed": false
   },
   "outputs": [
    {
     "name": "stdout",
     "output_type": "stream",
     "text": [
      "zipcode\n",
      "98039      2160606.600000\n",
      "98004      1355927.082019\n",
      "Name: price, dtype: float64\n",
      "2160606.6\n"
     ]
    }
   ],
   "source": [
    "avg_price_by_zip = sales.groupby(['zipcode']).mean()\n",
    "print avg_price_by_zip.sort(columns='price', ascending=False)['price'].head(2)\n",
    "print avg_price_by_zip.sort(columns='price', ascending=False)['price'].iloc[0]"
   ]
  },
  {
   "cell_type": "markdown",
   "metadata": {},
   "source": [
    "### 2. Filtering data: What fraction of the houses have living space between 2000 sq.ft. and 4000 sq.ft.?"
   ]
  },
  {
   "cell_type": "code",
   "execution_count": 44,
   "metadata": {
    "collapsed": false
   },
   "outputs": [
    {
     "name": "stdout",
     "output_type": "stream",
     "text": [
      "            id             date   price  bedrooms  bathrooms  sqft_living  \\\n",
      "1   6414100192  20141209T000000  538000         3       2.25         2570   \n",
      "10  1736800520  20150403T000000  662500         3       2.50         3560   \n",
      "\n",
      "    sqft_lot  floors  waterfront  view  ...   grade  sqft_above  \\\n",
      "1       7242       2           0     0  ...       7        2170   \n",
      "10      9796       1           0     0  ...       8        1860   \n",
      "\n",
      "    sqft_basement  yr_built  yr_renovated  zipcode      lat     long  \\\n",
      "1             400      1951          1991    98125  47.7210 -122.319   \n",
      "10           1700      1965             0    98007  47.6007 -122.145   \n",
      "\n",
      "    sqft_living15  sqft_lot15  \n",
      "1            1690        7639  \n",
      "10           2210        8925  \n",
      "\n",
      "[2 rows x 21 columns]\n"
     ]
    }
   ],
   "source": [
    "sales_filtered = sales[(sales['sqft_living'] > 2000) & (sales['sqft_living'] < 4000)]\n",
    "print sales_filtered.head(2)"
   ]
  },
  {
   "cell_type": "code",
   "execution_count": 46,
   "metadata": {
    "collapsed": false
   },
   "outputs": [
    {
     "data": {
      "text/plain": [
       "0.4215518437977143"
      ]
     },
     "execution_count": 46,
     "metadata": {},
     "output_type": "execute_result"
    }
   ],
   "source": [
    "len(sales_filtered)/float(len(sales))"
   ]
  },
  {
   "cell_type": "markdown",
   "metadata": {},
   "source": [
    "### 3. Building a regression model with several more features: What is the difference in RMSE between the model trained with my_features and the one trained with advanced_features?"
   ]
  },
  {
   "cell_type": "markdown",
   "metadata": {},
   "source": [
    "#### Select features"
   ]
  },
  {
   "cell_type": "code",
   "execution_count": 86,
   "metadata": {
    "collapsed": false
   },
   "outputs": [
    {
     "name": "stdout",
     "output_type": "stream",
     "text": [
      "['bedrooms', 'bathrooms', 'sqft_living', 'sqft_lot', 'floors', 'zipcode', 'waterfront', 'view', 'condition', 'grade', 'sqft_above', 'sqft_basement', 'yr_built', 'yr_renovated']\n"
     ]
    }
   ],
   "source": [
    "# all_features = sales.columns - ['price'] #remove output variable\n",
    "my_features = ['bedrooms', 'bathrooms', 'sqft_living', 'sqft_lot', 'floors', 'zipcode']\n",
    "advanced_features = my_features + ['waterfront', 'view', 'condition', 'grade', 'sqft_above', 'sqft_basement', 'yr_built', 'yr_renovated']\n",
    "print advanced_features"
   ]
  },
  {
   "cell_type": "markdown",
   "metadata": {},
   "source": [
    "#### Split data into train, test"
   ]
  },
  {
   "cell_type": "code",
   "execution_count": 115,
   "metadata": {
    "collapsed": false
   },
   "outputs": [
    {
     "name": "stdout",
     "output_type": "stream",
     "text": [
      "[  3.00000000e+00   1.00000000e+00   1.57000000e+03   5.51000000e+03\n",
      "   1.00000000e+00   9.81150000e+04]\n",
      "[  2.00000000e+00   1.50000000e+00   1.43000000e+03   1.65000000e+03\n",
      "   3.00000000e+00   9.81250000e+04]\n",
      "495000.0\n"
     ]
    }
   ],
   "source": [
    "import sklearn\n",
    "#from sklearn.model_selection import train_test_split\n",
    "from sklearn.cross_validation import train_test_split\n",
    "X_train, X_test, y_train, y_test = train_test_split(sales[my_features], sales['price'], test_size=0.2, random_state=0)\n",
    "print X_train[0,:]\n",
    "print X_test[0,:]\n",
    "print y_train[0]"
   ]
  },
  {
   "cell_type": "code",
   "execution_count": 126,
   "metadata": {
    "collapsed": false
   },
   "outputs": [
    {
     "name": "stdout",
     "output_type": "stream",
     "text": [
      "[  3.00000000e+00   1.00000000e+00   1.57000000e+03   5.51000000e+03\n",
      "   1.00000000e+00   9.81150000e+04   0.00000000e+00   0.00000000e+00\n",
      "   4.00000000e+00   7.00000000e+00   1.07000000e+03   5.00000000e+02\n",
      "   1.94000000e+03   0.00000000e+00]\n",
      "[  2.00000000e+00   1.50000000e+00   1.43000000e+03   1.65000000e+03\n",
      "   3.00000000e+00   9.81250000e+04   0.00000000e+00   0.00000000e+00\n",
      "   3.00000000e+00   7.00000000e+00   1.43000000e+03   0.00000000e+00\n",
      "   1.99900000e+03   0.00000000e+00]\n"
     ]
    }
   ],
   "source": [
    "advanced_X_train, advanced_X_test, advanced_y_train, advanced_y_test = train_test_split(sales[advanced_features], sales['price'], test_size=0.2, random_state=0)\n",
    "print advanced_X_train[0,:] #same random_state or seed so same split\n",
    "print advanced_X_test[0,:]"
   ]
  },
  {
   "cell_type": "markdown",
   "metadata": {},
   "source": [
    "#### Run linear regression"
   ]
  },
  {
   "cell_type": "code",
   "execution_count": 107,
   "metadata": {
    "collapsed": false
   },
   "outputs": [
    {
     "data": {
      "text/plain": [
       "LinearRegression(copy_X=True, fit_intercept=True, normalize=False)"
      ]
     },
     "execution_count": 107,
     "metadata": {},
     "output_type": "execute_result"
    }
   ],
   "source": [
    "from sklearn import linear_model\n",
    "regr = linear_model.LinearRegression()\n",
    "regr.fit(X_train, y_train)"
   ]
  },
  {
   "cell_type": "code",
   "execution_count": 124,
   "metadata": {
    "collapsed": false
   },
   "outputs": [
    {
     "name": "stdout",
     "output_type": "stream",
     "text": [
      "('Coefficients: \\n', array([ -5.66006335e+04,   1.10870931e+04,   3.20408368e+02,\n",
      "        -2.89499128e-01,  -2.41800204e+03,   6.17971044e+02]))\n",
      "Mean squared error: 59538329742.70\n",
      "Root Mean squared error: 244004.77\n",
      "Variance score: 0.50\n"
     ]
    }
   ],
   "source": [
    "# The coefficients\n",
    "print('Coefficients: \\n', regr.coef_)\n",
    "# The mean squared error\n",
    "print(\"Mean squared error: %.2f\"\n",
    "      % np.mean((regr.predict(X_test) - y_test) ** 2))\n",
    "print(\"Root Mean squared error: %.2f\"\n",
    "      % np.sqrt(np.mean((regr.predict(X_test) - y_test) ** 2)))\n",
    "# Explained variance score: 1 is perfect prediction\n",
    "print('Variance score: %.2f' % regr.score(X_test, y_test))"
   ]
  },
  {
   "cell_type": "code",
   "execution_count": 127,
   "metadata": {
    "collapsed": false
   },
   "outputs": [
    {
     "data": {
      "text/plain": [
       "LinearRegression(copy_X=True, fit_intercept=True, normalize=False)"
      ]
     },
     "execution_count": 127,
     "metadata": {},
     "output_type": "execute_result"
    }
   ],
   "source": [
    "regr.fit(advanced_X_train, advanced_y_train)"
   ]
  },
  {
   "cell_type": "code",
   "execution_count": 128,
   "metadata": {
    "collapsed": false
   },
   "outputs": [
    {
     "name": "stdout",
     "output_type": "stream",
     "text": [
      "('Coefficients: \\n', array([ -3.72687641e+04,   4.35870226e+04,   1.16672560e+02,\n",
      "        -2.62295351e-01,   2.64350610e+04,   2.16980566e+00,\n",
      "         5.95624663e+05,   4.54348767e+04,   1.86372903e+04,\n",
      "         1.22571768e+05,   5.75289860e+01,   5.91435733e+01,\n",
      "        -3.56998516e+03,   8.44268043e+00]))\n",
      "Mean squared error: 42200337367.03\n",
      "Root Mean squared error: 205427.21\n",
      "Variance score: 0.65\n"
     ]
    }
   ],
   "source": [
    "# The coefficients\n",
    "print('Coefficients: \\n', regr.coef_)\n",
    "# The mean squared error\n",
    "print(\"Mean squared error: %.2f\"\n",
    "      % np.mean((regr.predict(advanced_X_test) - advanced_y_test) ** 2))\n",
    "print(\"Root Mean squared error: %.2f\"\n",
    "      % np.sqrt(np.mean((regr.predict(advanced_X_test) - advanced_y_test) ** 2)))\n",
    "# Explained variance score: 1 is perfect prediction\n",
    "print('Variance score: %.2f' % regr.score(advanced_X_test, advanced_y_test))"
   ]
  }
 ],
 "metadata": {
  "anaconda-cloud": {},
  "kernelspec": {
   "display_name": "Python [conda root]",
   "language": "python",
   "name": "conda-root-py"
  },
  "language_info": {
   "codemirror_mode": {
    "name": "ipython",
    "version": 2
   },
   "file_extension": ".py",
   "mimetype": "text/x-python",
   "name": "python",
   "nbconvert_exporter": "python",
   "pygments_lexer": "ipython2",
   "version": "2.7.12"
  }
 },
 "nbformat": 4,
 "nbformat_minor": 1
}
